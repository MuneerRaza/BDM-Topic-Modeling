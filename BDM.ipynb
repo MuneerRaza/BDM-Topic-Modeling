{
  "nbformat": 4,
  "nbformat_minor": 0,
  "metadata": {
    "colab": {
      "provenance": []
    },
    "kernelspec": {
      "name": "python3",
      "display_name": "Python 3"
    },
    "language_info": {
      "name": "python"
    },
    "accelerator": "TPU"
  },
  "cells": [
    {
      "cell_type": "markdown",
      "source": [
        "#LIBRARIES"
      ],
      "metadata": {
        "id": "vD3fhkjQB6OB"
      }
    },
    {
      "cell_type": "code",
      "source": [
        "!pip install scikit-learn-extra"
      ],
      "metadata": {
        "colab": {
          "base_uri": "https://localhost:8080/"
        },
        "id": "x4DWVQ4aqwvH",
        "outputId": "656ca9fe-814b-42fd-c31a-5c881b4452d8"
      },
      "execution_count": null,
      "outputs": [
        {
          "output_type": "stream",
          "name": "stdout",
          "text": [
            "Collecting scikit-learn-extra\n",
            "  Downloading scikit_learn_extra-0.3.0-cp310-cp310-manylinux_2_17_x86_64.manylinux2014_x86_64.whl (2.0 MB)\n",
            "\u001b[2K     \u001b[90m━━━━━━━━━━━━━━━━━━━━━━━━━━━━━━━━━━━━━━━━\u001b[0m \u001b[32m2.0/2.0 MB\u001b[0m \u001b[31m8.9 MB/s\u001b[0m eta \u001b[36m0:00:00\u001b[0m\n",
            "\u001b[?25hRequirement already satisfied: numpy>=1.13.3 in /usr/local/lib/python3.10/dist-packages (from scikit-learn-extra) (1.23.5)\n",
            "Requirement already satisfied: scipy>=0.19.1 in /usr/local/lib/python3.10/dist-packages (from scikit-learn-extra) (1.11.4)\n",
            "Requirement already satisfied: scikit-learn>=0.23.0 in /usr/local/lib/python3.10/dist-packages (from scikit-learn-extra) (1.2.2)\n",
            "Requirement already satisfied: joblib>=1.1.1 in /usr/local/lib/python3.10/dist-packages (from scikit-learn>=0.23.0->scikit-learn-extra) (1.3.2)\n",
            "Requirement already satisfied: threadpoolctl>=2.0.0 in /usr/local/lib/python3.10/dist-packages (from scikit-learn>=0.23.0->scikit-learn-extra) (3.2.0)\n",
            "Installing collected packages: scikit-learn-extra\n",
            "Successfully installed scikit-learn-extra-0.3.0\n"
          ]
        }
      ]
    },
    {
      "cell_type": "code",
      "source": [
        "import re\n",
        "import string\n",
        "import nltk\n",
        "from nltk.corpus import stopwords\n",
        "from nltk.stem import WordNetLemmatizer\n",
        "import spacy\n",
        "\n",
        "import pandas as pd\n",
        "import numpy as np\n",
        "import matplotlib.pyplot as plt\n",
        "import seaborn as sns\n",
        "\n",
        "from itertools import combinations\n",
        "\n",
        "import bitermplus as btm\n",
        "from sklearn_extra.cluster import KMedoids\n",
        "from sklearn.metrics import jaccard_score"
      ],
      "metadata": {
        "id": "ABZPy8t2B_N5"
      },
      "execution_count": null,
      "outputs": []
    },
    {
      "cell_type": "code",
      "source": [
        "nltk.download('stopwords')\n",
        "nltk.download('wordnet')"
      ],
      "metadata": {
        "colab": {
          "base_uri": "https://localhost:8080/"
        },
        "id": "okQMhzUvHy6m",
        "outputId": "28314086-c6c6-409f-a0b4-b09fbade520c"
      },
      "execution_count": null,
      "outputs": [
        {
          "output_type": "stream",
          "name": "stderr",
          "text": [
            "[nltk_data] Downloading package stopwords to /root/nltk_data...\n",
            "[nltk_data]   Package stopwords is already up-to-date!\n",
            "[nltk_data] Downloading package wordnet to /root/nltk_data...\n",
            "[nltk_data]   Package wordnet is already up-to-date!\n"
          ]
        },
        {
          "output_type": "execute_result",
          "data": {
            "text/plain": [
              "True"
            ]
          },
          "metadata": {},
          "execution_count": 3
        }
      ]
    },
    {
      "cell_type": "code",
      "source": [
        "nlp = spacy.load('en_core_web_sm')"
      ],
      "metadata": {
        "id": "KuBW3tZhH9SX"
      },
      "execution_count": null,
      "outputs": []
    },
    {
      "cell_type": "markdown",
      "source": [
        "# Exploratory Data Analysis"
      ],
      "metadata": {
        "id": "58M-BuWACQyg"
      }
    },
    {
      "cell_type": "markdown",
      "source": [
        "* Dataset Loading"
      ],
      "metadata": {
        "id": "KT_tU6ovCVoo"
      }
    },
    {
      "cell_type": "code",
      "source": [
        "temp_df = pd.read_csv('aitools.csv')\n",
        "temp_df.head()"
      ],
      "metadata": {
        "colab": {
          "base_uri": "https://localhost:8080/",
          "height": 293
        },
        "id": "aGoSmC-4CJ7I",
        "outputId": "037b4ce3-c0c0-40e7-a5b8-5fa3a65e5fba"
      },
      "execution_count": null,
      "outputs": [
        {
          "output_type": "execute_result",
          "data": {
            "text/plain": [
              "                                       tool_mage_url  \\\n",
              "0  https://uploads-ssl.webflow.com/63994dae103371...   \n",
              "1  https://uploads-ssl.webflow.com/63994dae103371...   \n",
              "2  https://uploads-ssl.webflow.com/63994dae103371...   \n",
              "3  https://uploads-ssl.webflow.com/63994dae103371...   \n",
              "4  https://uploads-ssl.webflow.com/63994dae103371...   \n",
              "\n",
              "                        tool  \\\n",
              "0                    Codeium   \n",
              "1                    LeiaPix   \n",
              "2  GPT-3 Playground (OpenAI)   \n",
              "3                 BlueWillow   \n",
              "4               Character.AI   \n",
              "\n",
              "                                    tool_description           category  \\\n",
              "0  Helps developers understand, modify, and test ...    Generative Code   \n",
              "1    Upload an image and turn it into a 3D animation  Image Improvement   \n",
              "2  Free AI writing tool - Let the AI generate any...        Copywriting   \n",
              "3        AI-powered image generating tool in Discord     Generative Art   \n",
              "4         Have chat conversations with AI characters               Chat   \n",
              "\n",
              "   upvotes              tags  \n",
              "0     1987               NaN  \n",
              "1     1779  Generative Video  \n",
              "2     1433          Research  \n",
              "3     1230      Matt's Picks  \n",
              "4      954           For Fun  "
            ],
            "text/html": [
              "\n",
              "  <div id=\"df-e56c1827-8bbf-4189-976d-deace1dbb5ba\" class=\"colab-df-container\">\n",
              "    <div>\n",
              "<style scoped>\n",
              "    .dataframe tbody tr th:only-of-type {\n",
              "        vertical-align: middle;\n",
              "    }\n",
              "\n",
              "    .dataframe tbody tr th {\n",
              "        vertical-align: top;\n",
              "    }\n",
              "\n",
              "    .dataframe thead th {\n",
              "        text-align: right;\n",
              "    }\n",
              "</style>\n",
              "<table border=\"1\" class=\"dataframe\">\n",
              "  <thead>\n",
              "    <tr style=\"text-align: right;\">\n",
              "      <th></th>\n",
              "      <th>tool_mage_url</th>\n",
              "      <th>tool</th>\n",
              "      <th>tool_description</th>\n",
              "      <th>category</th>\n",
              "      <th>upvotes</th>\n",
              "      <th>tags</th>\n",
              "    </tr>\n",
              "  </thead>\n",
              "  <tbody>\n",
              "    <tr>\n",
              "      <th>0</th>\n",
              "      <td>https://uploads-ssl.webflow.com/63994dae103371...</td>\n",
              "      <td>Codeium</td>\n",
              "      <td>Helps developers understand, modify, and test ...</td>\n",
              "      <td>Generative Code</td>\n",
              "      <td>1987</td>\n",
              "      <td>NaN</td>\n",
              "    </tr>\n",
              "    <tr>\n",
              "      <th>1</th>\n",
              "      <td>https://uploads-ssl.webflow.com/63994dae103371...</td>\n",
              "      <td>LeiaPix</td>\n",
              "      <td>Upload an image and turn it into a 3D animation</td>\n",
              "      <td>Image Improvement</td>\n",
              "      <td>1779</td>\n",
              "      <td>Generative Video</td>\n",
              "    </tr>\n",
              "    <tr>\n",
              "      <th>2</th>\n",
              "      <td>https://uploads-ssl.webflow.com/63994dae103371...</td>\n",
              "      <td>GPT-3 Playground (OpenAI)</td>\n",
              "      <td>Free AI writing tool - Let the AI generate any...</td>\n",
              "      <td>Copywriting</td>\n",
              "      <td>1433</td>\n",
              "      <td>Research</td>\n",
              "    </tr>\n",
              "    <tr>\n",
              "      <th>3</th>\n",
              "      <td>https://uploads-ssl.webflow.com/63994dae103371...</td>\n",
              "      <td>BlueWillow</td>\n",
              "      <td>AI-powered image generating tool in Discord</td>\n",
              "      <td>Generative Art</td>\n",
              "      <td>1230</td>\n",
              "      <td>Matt's Picks</td>\n",
              "    </tr>\n",
              "    <tr>\n",
              "      <th>4</th>\n",
              "      <td>https://uploads-ssl.webflow.com/63994dae103371...</td>\n",
              "      <td>Character.AI</td>\n",
              "      <td>Have chat conversations with AI characters</td>\n",
              "      <td>Chat</td>\n",
              "      <td>954</td>\n",
              "      <td>For Fun</td>\n",
              "    </tr>\n",
              "  </tbody>\n",
              "</table>\n",
              "</div>\n",
              "    <div class=\"colab-df-buttons\">\n",
              "\n",
              "  <div class=\"colab-df-container\">\n",
              "    <button class=\"colab-df-convert\" onclick=\"convertToInteractive('df-e56c1827-8bbf-4189-976d-deace1dbb5ba')\"\n",
              "            title=\"Convert this dataframe to an interactive table.\"\n",
              "            style=\"display:none;\">\n",
              "\n",
              "  <svg xmlns=\"http://www.w3.org/2000/svg\" height=\"24px\" viewBox=\"0 -960 960 960\">\n",
              "    <path d=\"M120-120v-720h720v720H120Zm60-500h600v-160H180v160Zm220 220h160v-160H400v160Zm0 220h160v-160H400v160ZM180-400h160v-160H180v160Zm440 0h160v-160H620v160ZM180-180h160v-160H180v160Zm440 0h160v-160H620v160Z\"/>\n",
              "  </svg>\n",
              "    </button>\n",
              "\n",
              "  <style>\n",
              "    .colab-df-container {\n",
              "      display:flex;\n",
              "      gap: 12px;\n",
              "    }\n",
              "\n",
              "    .colab-df-convert {\n",
              "      background-color: #E8F0FE;\n",
              "      border: none;\n",
              "      border-radius: 50%;\n",
              "      cursor: pointer;\n",
              "      display: none;\n",
              "      fill: #1967D2;\n",
              "      height: 32px;\n",
              "      padding: 0 0 0 0;\n",
              "      width: 32px;\n",
              "    }\n",
              "\n",
              "    .colab-df-convert:hover {\n",
              "      background-color: #E2EBFA;\n",
              "      box-shadow: 0px 1px 2px rgba(60, 64, 67, 0.3), 0px 1px 3px 1px rgba(60, 64, 67, 0.15);\n",
              "      fill: #174EA6;\n",
              "    }\n",
              "\n",
              "    .colab-df-buttons div {\n",
              "      margin-bottom: 4px;\n",
              "    }\n",
              "\n",
              "    [theme=dark] .colab-df-convert {\n",
              "      background-color: #3B4455;\n",
              "      fill: #D2E3FC;\n",
              "    }\n",
              "\n",
              "    [theme=dark] .colab-df-convert:hover {\n",
              "      background-color: #434B5C;\n",
              "      box-shadow: 0px 1px 3px 1px rgba(0, 0, 0, 0.15);\n",
              "      filter: drop-shadow(0px 1px 2px rgba(0, 0, 0, 0.3));\n",
              "      fill: #FFFFFF;\n",
              "    }\n",
              "  </style>\n",
              "\n",
              "    <script>\n",
              "      const buttonEl =\n",
              "        document.querySelector('#df-e56c1827-8bbf-4189-976d-deace1dbb5ba button.colab-df-convert');\n",
              "      buttonEl.style.display =\n",
              "        google.colab.kernel.accessAllowed ? 'block' : 'none';\n",
              "\n",
              "      async function convertToInteractive(key) {\n",
              "        const element = document.querySelector('#df-e56c1827-8bbf-4189-976d-deace1dbb5ba');\n",
              "        const dataTable =\n",
              "          await google.colab.kernel.invokeFunction('convertToInteractive',\n",
              "                                                    [key], {});\n",
              "        if (!dataTable) return;\n",
              "\n",
              "        const docLinkHtml = 'Like what you see? Visit the ' +\n",
              "          '<a target=\"_blank\" href=https://colab.research.google.com/notebooks/data_table.ipynb>data table notebook</a>'\n",
              "          + ' to learn more about interactive tables.';\n",
              "        element.innerHTML = '';\n",
              "        dataTable['output_type'] = 'display_data';\n",
              "        await google.colab.output.renderOutput(dataTable, element);\n",
              "        const docLink = document.createElement('div');\n",
              "        docLink.innerHTML = docLinkHtml;\n",
              "        element.appendChild(docLink);\n",
              "      }\n",
              "    </script>\n",
              "  </div>\n",
              "\n",
              "\n",
              "<div id=\"df-e51e1011-d74a-4aac-b907-fdc8832dd2c4\">\n",
              "  <button class=\"colab-df-quickchart\" onclick=\"quickchart('df-e51e1011-d74a-4aac-b907-fdc8832dd2c4')\"\n",
              "            title=\"Suggest charts\"\n",
              "            style=\"display:none;\">\n",
              "\n",
              "<svg xmlns=\"http://www.w3.org/2000/svg\" height=\"24px\"viewBox=\"0 0 24 24\"\n",
              "     width=\"24px\">\n",
              "    <g>\n",
              "        <path d=\"M19 3H5c-1.1 0-2 .9-2 2v14c0 1.1.9 2 2 2h14c1.1 0 2-.9 2-2V5c0-1.1-.9-2-2-2zM9 17H7v-7h2v7zm4 0h-2V7h2v10zm4 0h-2v-4h2v4z\"/>\n",
              "    </g>\n",
              "</svg>\n",
              "  </button>\n",
              "\n",
              "<style>\n",
              "  .colab-df-quickchart {\n",
              "      --bg-color: #E8F0FE;\n",
              "      --fill-color: #1967D2;\n",
              "      --hover-bg-color: #E2EBFA;\n",
              "      --hover-fill-color: #174EA6;\n",
              "      --disabled-fill-color: #AAA;\n",
              "      --disabled-bg-color: #DDD;\n",
              "  }\n",
              "\n",
              "  [theme=dark] .colab-df-quickchart {\n",
              "      --bg-color: #3B4455;\n",
              "      --fill-color: #D2E3FC;\n",
              "      --hover-bg-color: #434B5C;\n",
              "      --hover-fill-color: #FFFFFF;\n",
              "      --disabled-bg-color: #3B4455;\n",
              "      --disabled-fill-color: #666;\n",
              "  }\n",
              "\n",
              "  .colab-df-quickchart {\n",
              "    background-color: var(--bg-color);\n",
              "    border: none;\n",
              "    border-radius: 50%;\n",
              "    cursor: pointer;\n",
              "    display: none;\n",
              "    fill: var(--fill-color);\n",
              "    height: 32px;\n",
              "    padding: 0;\n",
              "    width: 32px;\n",
              "  }\n",
              "\n",
              "  .colab-df-quickchart:hover {\n",
              "    background-color: var(--hover-bg-color);\n",
              "    box-shadow: 0 1px 2px rgba(60, 64, 67, 0.3), 0 1px 3px 1px rgba(60, 64, 67, 0.15);\n",
              "    fill: var(--button-hover-fill-color);\n",
              "  }\n",
              "\n",
              "  .colab-df-quickchart-complete:disabled,\n",
              "  .colab-df-quickchart-complete:disabled:hover {\n",
              "    background-color: var(--disabled-bg-color);\n",
              "    fill: var(--disabled-fill-color);\n",
              "    box-shadow: none;\n",
              "  }\n",
              "\n",
              "  .colab-df-spinner {\n",
              "    border: 2px solid var(--fill-color);\n",
              "    border-color: transparent;\n",
              "    border-bottom-color: var(--fill-color);\n",
              "    animation:\n",
              "      spin 1s steps(1) infinite;\n",
              "  }\n",
              "\n",
              "  @keyframes spin {\n",
              "    0% {\n",
              "      border-color: transparent;\n",
              "      border-bottom-color: var(--fill-color);\n",
              "      border-left-color: var(--fill-color);\n",
              "    }\n",
              "    20% {\n",
              "      border-color: transparent;\n",
              "      border-left-color: var(--fill-color);\n",
              "      border-top-color: var(--fill-color);\n",
              "    }\n",
              "    30% {\n",
              "      border-color: transparent;\n",
              "      border-left-color: var(--fill-color);\n",
              "      border-top-color: var(--fill-color);\n",
              "      border-right-color: var(--fill-color);\n",
              "    }\n",
              "    40% {\n",
              "      border-color: transparent;\n",
              "      border-right-color: var(--fill-color);\n",
              "      border-top-color: var(--fill-color);\n",
              "    }\n",
              "    60% {\n",
              "      border-color: transparent;\n",
              "      border-right-color: var(--fill-color);\n",
              "    }\n",
              "    80% {\n",
              "      border-color: transparent;\n",
              "      border-right-color: var(--fill-color);\n",
              "      border-bottom-color: var(--fill-color);\n",
              "    }\n",
              "    90% {\n",
              "      border-color: transparent;\n",
              "      border-bottom-color: var(--fill-color);\n",
              "    }\n",
              "  }\n",
              "</style>\n",
              "\n",
              "  <script>\n",
              "    async function quickchart(key) {\n",
              "      const quickchartButtonEl =\n",
              "        document.querySelector('#' + key + ' button');\n",
              "      quickchartButtonEl.disabled = true;  // To prevent multiple clicks.\n",
              "      quickchartButtonEl.classList.add('colab-df-spinner');\n",
              "      try {\n",
              "        const charts = await google.colab.kernel.invokeFunction(\n",
              "            'suggestCharts', [key], {});\n",
              "      } catch (error) {\n",
              "        console.error('Error during call to suggestCharts:', error);\n",
              "      }\n",
              "      quickchartButtonEl.classList.remove('colab-df-spinner');\n",
              "      quickchartButtonEl.classList.add('colab-df-quickchart-complete');\n",
              "    }\n",
              "    (() => {\n",
              "      let quickchartButtonEl =\n",
              "        document.querySelector('#df-e51e1011-d74a-4aac-b907-fdc8832dd2c4 button');\n",
              "      quickchartButtonEl.style.display =\n",
              "        google.colab.kernel.accessAllowed ? 'block' : 'none';\n",
              "    })();\n",
              "  </script>\n",
              "</div>\n",
              "    </div>\n",
              "  </div>\n"
            ]
          },
          "metadata": {},
          "execution_count": 5
        }
      ]
    },
    {
      "cell_type": "markdown",
      "source": [
        "* Handling missing values"
      ],
      "metadata": {
        "id": "QgFy0G2eCgKY"
      }
    },
    {
      "cell_type": "code",
      "source": [
        "temp_df.isna().sum()"
      ],
      "metadata": {
        "colab": {
          "base_uri": "https://localhost:8080/"
        },
        "id": "fBKaNQRhCPyR",
        "outputId": "4d6e89de-5163-4552-ae00-ae644cc76da6"
      },
      "execution_count": null,
      "outputs": [
        {
          "output_type": "execute_result",
          "data": {
            "text/plain": [
              "tool_mage_url         0\n",
              "tool                  0\n",
              "tool_description      1\n",
              "category              0\n",
              "upvotes               0\n",
              "tags                626\n",
              "dtype: int64"
            ]
          },
          "metadata": {},
          "execution_count": 6
        }
      ]
    },
    {
      "cell_type": "markdown",
      "source": [
        "* Dropping `tags` because it has almost empty values, this will decrease our model performance"
      ],
      "metadata": {
        "id": "uOvcpl85D_jH"
      }
    },
    {
      "cell_type": "code",
      "source": [
        "temp_df.drop('tags', axis=1, inplace=True)"
      ],
      "metadata": {
        "id": "V2co6SUrCxje"
      },
      "execution_count": null,
      "outputs": []
    },
    {
      "cell_type": "markdown",
      "source": [
        " * Dropping one row which has no `tool_description`"
      ],
      "metadata": {
        "id": "z4SSnyCfD3qs"
      }
    },
    {
      "cell_type": "code",
      "source": [
        "temp_df.dropna(subset=['tool_description'], inplace=True)"
      ],
      "metadata": {
        "id": "i8QKTHdLDcVq"
      },
      "execution_count": null,
      "outputs": []
    },
    {
      "cell_type": "code",
      "source": [
        "temp_df.info()"
      ],
      "metadata": {
        "colab": {
          "base_uri": "https://localhost:8080/"
        },
        "id": "xhRomBWCEFXf",
        "outputId": "144d7af8-4ebe-46b5-eb23-3e5a4ee59657"
      },
      "execution_count": null,
      "outputs": [
        {
          "output_type": "stream",
          "name": "stdout",
          "text": [
            "<class 'pandas.core.frame.DataFrame'>\n",
            "Int64Index: 1011 entries, 0 to 1011\n",
            "Data columns (total 5 columns):\n",
            " #   Column            Non-Null Count  Dtype \n",
            "---  ------            --------------  ----- \n",
            " 0   tool_mage_url     1011 non-null   object\n",
            " 1   tool              1011 non-null   object\n",
            " 2   tool_description  1011 non-null   object\n",
            " 3   category          1011 non-null   object\n",
            " 4   upvotes           1011 non-null   int64 \n",
            "dtypes: int64(1), object(4)\n",
            "memory usage: 47.4+ KB\n"
          ]
        }
      ]
    },
    {
      "cell_type": "code",
      "source": [
        "plt.figure(figsize=(12, 8))\n",
        "sns.countplot(x=temp_df['category'])\n",
        "plt.xticks(rotation=90)\n",
        "plt.show()"
      ],
      "metadata": {
        "colab": {
          "base_uri": "https://localhost:8080/",
          "height": 823
        },
        "id": "OjVVTYblMMTu",
        "outputId": "d545c5f3-cfaf-439d-e753-8c9bad24203a"
      },
      "execution_count": null,
      "outputs": [
        {
          "output_type": "display_data",
          "data": {
            "text/plain": [
              "<Figure size 1200x800 with 1 Axes>"
            ],
            "image/png": "[encoded data removed]"
          },
          "metadata": {}
        }
      ]
    },
    {
      "cell_type": "code",
      "source": [
        "print(f\"Number of Target Classes: {len(temp_df['category'].unique())}\")\n",
        "print(temp_df['category'].unique())"
      ],
      "metadata": {
        "colab": {
          "base_uri": "https://localhost:8080/"
        },
        "id": "5zyI72cjNwB1",
        "outputId": "4759cc3e-99fe-4df0-8716-bfb3879c20a4"
      },
      "execution_count": null,
      "outputs": [
        {
          "output_type": "stream",
          "name": "stdout",
          "text": [
            "Number of Target Classes: 29\n",
            "['Generative Code' 'Image Improvement' 'Copywriting' 'Generative Art'\n",
            " 'Chat' 'Productivity' 'Voice Modulation' 'Text-To-Speech'\n",
            " 'Self-Improvement' 'Prompt Guides' 'Marketing' 'Generative Video'\n",
            " 'Translation' 'For Fun' 'Music' 'Video Editing' 'Avatar' 'Finance'\n",
            " 'Research' 'Inspiration' 'Aggregators' 'AI Detection' 'Social Media'\n",
            " 'Speech-To-Text' 'Image Scanning' 'Motion Capture' 'Gaming'\n",
            " 'Text-To-Video' 'Podcasting']\n"
          ]
        }
      ]
    },
    {
      "cell_type": "markdown",
      "source": [
        "# Data Preprocessing"
      ],
      "metadata": {
        "id": "xO1RhPl8FcAV"
      }
    },
    {
      "cell_type": "markdown",
      "source": [
        "* Text cleaning"
      ],
      "metadata": {
        "id": "WEzwCRu9FPDs"
      }
    },
    {
      "cell_type": "code",
      "source": [
        "def clean_text(text):\n",
        "    text = text.lower()\n",
        "\n",
        "    text = re.sub(r'\\d+', '', text) # remove numbers\n",
        "\n",
        "    doc = nlp(text)\n",
        "    lemmatized_text = ' '.join([token.lemma_ for token in doc])\n",
        "\n",
        "    extended_punctuations = string.punctuation + '’‘“”'\n",
        "    translator = str.maketrans('', '', extended_punctuations)\n",
        "    lemmatized_text = lemmatized_text.translate(translator)\n",
        "\n",
        "    stop_words = set(stopwords.words('english'))\n",
        "    lemmatized_text = ' '.join([word for word in lemmatized_text.split() if word not in stop_words])\n",
        "\n",
        "    lemmatized_text = ' '.join(lemmatized_text.split())\n",
        "\n",
        "    return lemmatized_text\n",
        "\n",
        "\n"
      ],
      "metadata": {
        "id": "V32yMwEFHf8J"
      },
      "execution_count": null,
      "outputs": []
    },
    {
      "cell_type": "code",
      "source": [
        "df = pd.DataFrame()\n",
        "df['description'] = temp_df['tool_description'].apply(clean_text)"
      ],
      "metadata": {
        "id": "pqY19QRhaNnq"
      },
      "execution_count": null,
      "outputs": []
    },
    {
      "cell_type": "code",
      "source": [
        "df.head()"
      ],
      "metadata": {
        "colab": {
          "base_uri": "https://localhost:8080/",
          "height": 206
        },
        "id": "cQIpMvwTIdaa",
        "outputId": "923214bd-5133-4000-e8e6-3736af105eac"
      },
      "execution_count": null,
      "outputs": [
        {
          "output_type": "execute_result",
          "data": {
            "text/plain": [
              "                                         description\n",
              "0  help developer understand modify test unfamili...\n",
              "1                        upload image turn animation\n",
              "2    free ai write tool let ai generate text imagine\n",
              "3           ai powered image generating tool discord\n",
              "4                     chat conversation ai character"
            ],
            "text/html": [
              "\n",
              "  <div id=\"df-1152d774-864e-4fe1-9869-58e6fe8b077f\" class=\"colab-df-container\">\n",
              "    <div>\n",
              "<style scoped>\n",
              "    .dataframe tbody tr th:only-of-type {\n",
              "        vertical-align: middle;\n",
              "    }\n",
              "\n",
              "    .dataframe tbody tr th {\n",
              "        vertical-align: top;\n",
              "    }\n",
              "\n",
              "    .dataframe thead th {\n",
              "        text-align: right;\n",
              "    }\n",
              "</style>\n",
              "<table border=\"1\" class=\"dataframe\">\n",
              "  <thead>\n",
              "    <tr style=\"text-align: right;\">\n",
              "      <th></th>\n",
              "      <th>description</th>\n",
              "    </tr>\n",
              "  </thead>\n",
              "  <tbody>\n",
              "    <tr>\n",
              "      <th>0</th>\n",
              "      <td>help developer understand modify test unfamili...</td>\n",
              "    </tr>\n",
              "    <tr>\n",
              "      <th>1</th>\n",
              "      <td>upload image turn animation</td>\n",
              "    </tr>\n",
              "    <tr>\n",
              "      <th>2</th>\n",
              "      <td>free ai write tool let ai generate text imagine</td>\n",
              "    </tr>\n",
              "    <tr>\n",
              "      <th>3</th>\n",
              "      <td>ai powered image generating tool discord</td>\n",
              "    </tr>\n",
              "    <tr>\n",
              "      <th>4</th>\n",
              "      <td>chat conversation ai character</td>\n",
              "    </tr>\n",
              "  </tbody>\n",
              "</table>\n",
              "</div>\n",
              "    <div class=\"colab-df-buttons\">\n",
              "\n",
              "  <div class=\"colab-df-container\">\n",
              "    <button class=\"colab-df-convert\" onclick=\"convertToInteractive('df-1152d774-864e-4fe1-9869-58e6fe8b077f')\"\n",
              "            title=\"Convert this dataframe to an interactive table.\"\n",
              "            style=\"display:none;\">\n",
              "\n",
              "  <svg xmlns=\"http://www.w3.org/2000/svg\" height=\"24px\" viewBox=\"0 -960 960 960\">\n",
              "    <path d=\"M120-120v-720h720v720H120Zm60-500h600v-160H180v160Zm220 220h160v-160H400v160Zm0 220h160v-160H400v160ZM180-400h160v-160H180v160Zm440 0h160v-160H620v160ZM180-180h160v-160H180v160Zm440 0h160v-160H620v160Z\"/>\n",
              "  </svg>\n",
              "    </button>\n",
              "\n",
              "  <style>\n",
              "    .colab-df-container {\n",
              "      display:flex;\n",
              "      gap: 12px;\n",
              "    }\n",
              "\n",
              "    .colab-df-convert {\n",
              "      background-color: #E8F0FE;\n",
              "      border: none;\n",
              "      border-radius: 50%;\n",
              "      cursor: pointer;\n",
              "      display: none;\n",
              "      fill: #1967D2;\n",
              "      height: 32px;\n",
              "      padding: 0 0 0 0;\n",
              "      width: 32px;\n",
              "    }\n",
              "\n",
              "    .colab-df-convert:hover {\n",
              "      background-color: #E2EBFA;\n",
              "      box-shadow: 0px 1px 2px rgba(60, 64, 67, 0.3), 0px 1px 3px 1px rgba(60, 64, 67, 0.15);\n",
              "      fill: #174EA6;\n",
              "    }\n",
              "\n",
              "    .colab-df-buttons div {\n",
              "      margin-bottom: 4px;\n",
              "    }\n",
              "\n",
              "    [theme=dark] .colab-df-convert {\n",
              "      background-color: #3B4455;\n",
              "      fill: #D2E3FC;\n",
              "    }\n",
              "\n",
              "    [theme=dark] .colab-df-convert:hover {\n",
              "      background-color: #434B5C;\n",
              "      box-shadow: 0px 1px 3px 1px rgba(0, 0, 0, 0.15);\n",
              "      filter: drop-shadow(0px 1px 2px rgba(0, 0, 0, 0.3));\n",
              "      fill: #FFFFFF;\n",
              "    }\n",
              "  </style>\n",
              "\n",
              "    <script>\n",
              "      const buttonEl =\n",
              "        document.querySelector('#df-1152d774-864e-4fe1-9869-58e6fe8b077f button.colab-df-convert');\n",
              "      buttonEl.style.display =\n",
              "        google.colab.kernel.accessAllowed ? 'block' : 'none';\n",
              "\n",
              "      async function convertToInteractive(key) {\n",
              "        const element = document.querySelector('#df-1152d774-864e-4fe1-9869-58e6fe8b077f');\n",
              "        const dataTable =\n",
              "          await google.colab.kernel.invokeFunction('convertToInteractive',\n",
              "                                                    [key], {});\n",
              "        if (!dataTable) return;\n",
              "\n",
              "        const docLinkHtml = 'Like what you see? Visit the ' +\n",
              "          '<a target=\"_blank\" href=https://colab.research.google.com/notebooks/data_table.ipynb>data table notebook</a>'\n",
              "          + ' to learn more about interactive tables.';\n",
              "        element.innerHTML = '';\n",
              "        dataTable['output_type'] = 'display_data';\n",
              "        await google.colab.output.renderOutput(dataTable, element);\n",
              "        const docLink = document.createElement('div');\n",
              "        docLink.innerHTML = docLinkHtml;\n",
              "        element.appendChild(docLink);\n",
              "      }\n",
              "    </script>\n",
              "  </div>\n",
              "\n",
              "\n",
              "<div id=\"df-0bcca659-5db1-434c-9b8f-4b881bb319f8\">\n",
              "  <button class=\"colab-df-quickchart\" onclick=\"quickchart('df-0bcca659-5db1-434c-9b8f-4b881bb319f8')\"\n",
              "            title=\"Suggest charts\"\n",
              "            style=\"display:none;\">\n",
              "\n",
              "<svg xmlns=\"http://www.w3.org/2000/svg\" height=\"24px\"viewBox=\"0 0 24 24\"\n",
              "     width=\"24px\">\n",
              "    <g>\n",
              "        <path d=\"M19 3H5c-1.1 0-2 .9-2 2v14c0 1.1.9 2 2 2h14c1.1 0 2-.9 2-2V5c0-1.1-.9-2-2-2zM9 17H7v-7h2v7zm4 0h-2V7h2v10zm4 0h-2v-4h2v4z\"/>\n",
              "    </g>\n",
              "</svg>\n",
              "  </button>\n",
              "\n",
              "<style>\n",
              "  .colab-df-quickchart {\n",
              "      --bg-color: #E8F0FE;\n",
              "      --fill-color: #1967D2;\n",
              "      --hover-bg-color: #E2EBFA;\n",
              "      --hover-fill-color: #174EA6;\n",
              "      --disabled-fill-color: #AAA;\n",
              "      --disabled-bg-color: #DDD;\n",
              "  }\n",
              "\n",
              "  [theme=dark] .colab-df-quickchart {\n",
              "      --bg-color: #3B4455;\n",
              "      --fill-color: #D2E3FC;\n",
              "      --hover-bg-color: #434B5C;\n",
              "      --hover-fill-color: #FFFFFF;\n",
              "      --disabled-bg-color: #3B4455;\n",
              "      --disabled-fill-color: #666;\n",
              "  }\n",
              "\n",
              "  .colab-df-quickchart {\n",
              "    background-color: var(--bg-color);\n",
              "    border: none;\n",
              "    border-radius: 50%;\n",
              "    cursor: pointer;\n",
              "    display: none;\n",
              "    fill: var(--fill-color);\n",
              "    height: 32px;\n",
              "    padding: 0;\n",
              "    width: 32px;\n",
              "  }\n",
              "\n",
              "  .colab-df-quickchart:hover {\n",
              "    background-color: var(--hover-bg-color);\n",
              "    box-shadow: 0 1px 2px rgba(60, 64, 67, 0.3), 0 1px 3px 1px rgba(60, 64, 67, 0.15);\n",
              "    fill: var(--button-hover-fill-color);\n",
              "  }\n",
              "\n",
              "  .colab-df-quickchart-complete:disabled,\n",
              "  .colab-df-quickchart-complete:disabled:hover {\n",
              "    background-color: var(--disabled-bg-color);\n",
              "    fill: var(--disabled-fill-color);\n",
              "    box-shadow: none;\n",
              "  }\n",
              "\n",
              "  .colab-df-spinner {\n",
              "    border: 2px solid var(--fill-color);\n",
              "    border-color: transparent;\n",
              "    border-bottom-color: var(--fill-color);\n",
              "    animation:\n",
              "      spin 1s steps(1) infinite;\n",
              "  }\n",
              "\n",
              "  @keyframes spin {\n",
              "    0% {\n",
              "      border-color: transparent;\n",
              "      border-bottom-color: var(--fill-color);\n",
              "      border-left-color: var(--fill-color);\n",
              "    }\n",
              "    20% {\n",
              "      border-color: transparent;\n",
              "      border-left-color: var(--fill-color);\n",
              "      border-top-color: var(--fill-color);\n",
              "    }\n",
              "    30% {\n",
              "      border-color: transparent;\n",
              "      border-left-color: var(--fill-color);\n",
              "      border-top-color: var(--fill-color);\n",
              "      border-right-color: var(--fill-color);\n",
              "    }\n",
              "    40% {\n",
              "      border-color: transparent;\n",
              "      border-right-color: var(--fill-color);\n",
              "      border-top-color: var(--fill-color);\n",
              "    }\n",
              "    60% {\n",
              "      border-color: transparent;\n",
              "      border-right-color: var(--fill-color);\n",
              "    }\n",
              "    80% {\n",
              "      border-color: transparent;\n",
              "      border-right-color: var(--fill-color);\n",
              "      border-bottom-color: var(--fill-color);\n",
              "    }\n",
              "    90% {\n",
              "      border-color: transparent;\n",
              "      border-bottom-color: var(--fill-color);\n",
              "    }\n",
              "  }\n",
              "</style>\n",
              "\n",
              "  <script>\n",
              "    async function quickchart(key) {\n",
              "      const quickchartButtonEl =\n",
              "        document.querySelector('#' + key + ' button');\n",
              "      quickchartButtonEl.disabled = true;  // To prevent multiple clicks.\n",
              "      quickchartButtonEl.classList.add('colab-df-spinner');\n",
              "      try {\n",
              "        const charts = await google.colab.kernel.invokeFunction(\n",
              "            'suggestCharts', [key], {});\n",
              "      } catch (error) {\n",
              "        console.error('Error during call to suggestCharts:', error);\n",
              "      }\n",
              "      quickchartButtonEl.classList.remove('colab-df-spinner');\n",
              "      quickchartButtonEl.classList.add('colab-df-quickchart-complete');\n",
              "    }\n",
              "    (() => {\n",
              "      let quickchartButtonEl =\n",
              "        document.querySelector('#df-0bcca659-5db1-434c-9b8f-4b881bb319f8 button');\n",
              "      quickchartButtonEl.style.display =\n",
              "        google.colab.kernel.accessAllowed ? 'block' : 'none';\n",
              "    })();\n",
              "  </script>\n",
              "</div>\n",
              "    </div>\n",
              "  </div>\n"
            ]
          },
          "metadata": {},
          "execution_count": 14
        }
      ]
    },
    {
      "cell_type": "markdown",
      "source": [
        "# IMPLEMENTATION OF BDM"
      ],
      "metadata": {
        "id": "5jw6PtioXcZK"
      }
    },
    {
      "cell_type": "markdown",
      "source": [
        "* Extracting `biterms`, all vocabulary in dataset, and length of `biterms`"
      ],
      "metadata": {
        "id": "dJG3V-dfIvUC"
      }
    },
    {
      "cell_type": "code",
      "source": [
        "texts = df['description']\n",
        "X, vocabulary, vocab_dict = btm.get_words_freqs(texts)\n",
        "\n",
        "docs_vec = btm.get_vectorized_docs(texts, vocabulary)\n",
        "docs_lens = list(map(len, docs_vec))\n",
        "\n",
        "biterms = btm.get_biterms(docs_vec)"
      ],
      "metadata": {
        "id": "20F0zd9lIuAp"
      },
      "execution_count": null,
      "outputs": []
    },
    {
      "cell_type": "markdown",
      "source": [
        "* Adding columns `biterm_indexes`, `biterms`, `length` in dataset"
      ],
      "metadata": {
        "id": "iBHGe1xdb1eP"
      }
    },
    {
      "cell_type": "code",
      "source": [
        "df['biterm_indexes'] = biterms\n",
        "df['biterms'] = df['biterm_indexes'].apply(lambda lst, vocab=vocab_dict: [[k for num in inner_lst for k, val in vocab.items() if val == num] for inner_lst in lst])"
      ],
      "metadata": {
        "id": "tQ0x_BpRa3e4"
      },
      "execution_count": null,
      "outputs": []
    },
    {
      "cell_type": "code",
      "source": [
        "df.head()"
      ],
      "metadata": {
        "colab": {
          "base_uri": "https://localhost:8080/",
          "height": 206
        },
        "id": "kMt-l9SLcWex",
        "outputId": "39b5ba19-559e-4c01-acc3-147a83873c2f"
      },
      "execution_count": null,
      "outputs": [
        {
          "output_type": "execute_result",
          "data": {
            "text/plain": [
              "                                         description  \\\n",
              "0  help developer understand modify test unfamili...   \n",
              "1                        upload image turn animation   \n",
              "2    free ai write tool let ai generate text imagine   \n",
              "3           ai powered image generating tool discord   \n",
              "4                     chat conversation ai character   \n",
              "\n",
              "                                      biterm_indexes  \\\n",
              "0  [[271, 446], [446, 1086], [446, 621], [446, 10...   \n",
              "1  [[471, 1094], [1075, 1094], [34, 1094], [471, ...   \n",
              "2  [[20, 397], [397, 1155], [397, 1053], [397, 54...   \n",
              "3  [[20, 744], [20, 471], [20, 416], [20, 1053], ...   \n",
              "4  [[146, 209], [20, 146], [145, 146], [20, 209],...   \n",
              "\n",
              "                                             biterms  length  \n",
              "0  [[developer, help], [help, understand], [help,...      10  \n",
              "1  [[image, upload], [turn, upload], [animation, ...       4  \n",
              "2  [[ai, free], [free, write], [free, tool], [fre...       9  \n",
              "3  [[ai, powered], [ai, image], [ai, generating],...       6  \n",
              "4  [[chat, conversation], [ai, chat], [character,...       4  "
            ],
            "text/html": [
              "\n",
              "  <div id=\"df-d58ad656-d108-4389-b402-064a424b2cfc\" class=\"colab-df-container\">\n",
              "    <div>\n",
              "<style scoped>\n",
              "    .dataframe tbody tr th:only-of-type {\n",
              "        vertical-align: middle;\n",
              "    }\n",
              "\n",
              "    .dataframe tbody tr th {\n",
              "        vertical-align: top;\n",
              "    }\n",
              "\n",
              "    .dataframe thead th {\n",
              "        text-align: right;\n",
              "    }\n",
              "</style>\n",
              "<table border=\"1\" class=\"dataframe\">\n",
              "  <thead>\n",
              "    <tr style=\"text-align: right;\">\n",
              "      <th></th>\n",
              "      <th>description</th>\n",
              "      <th>biterm_indexes</th>\n",
              "      <th>biterms</th>\n",
              "      <th>length</th>\n",
              "    </tr>\n",
              "  </thead>\n",
              "  <tbody>\n",
              "    <tr>\n",
              "      <th>0</th>\n",
              "      <td>help developer understand modify test unfamili...</td>\n",
              "      <td>[[271, 446], [446, 1086], [446, 621], [446, 10...</td>\n",
              "      <td>[[developer, help], [help, understand], [help,...</td>\n",
              "      <td>10</td>\n",
              "    </tr>\n",
              "    <tr>\n",
              "      <th>1</th>\n",
              "      <td>upload image turn animation</td>\n",
              "      <td>[[471, 1094], [1075, 1094], [34, 1094], [471, ...</td>\n",
              "      <td>[[image, upload], [turn, upload], [animation, ...</td>\n",
              "      <td>4</td>\n",
              "    </tr>\n",
              "    <tr>\n",
              "      <th>2</th>\n",
              "      <td>free ai write tool let ai generate text imagine</td>\n",
              "      <td>[[20, 397], [397, 1155], [397, 1053], [397, 54...</td>\n",
              "      <td>[[ai, free], [free, write], [free, tool], [fre...</td>\n",
              "      <td>9</td>\n",
              "    </tr>\n",
              "    <tr>\n",
              "      <th>3</th>\n",
              "      <td>ai powered image generating tool discord</td>\n",
              "      <td>[[20, 744], [20, 471], [20, 416], [20, 1053], ...</td>\n",
              "      <td>[[ai, powered], [ai, image], [ai, generating],...</td>\n",
              "      <td>6</td>\n",
              "    </tr>\n",
              "    <tr>\n",
              "      <th>4</th>\n",
              "      <td>chat conversation ai character</td>\n",
              "      <td>[[146, 209], [20, 146], [145, 146], [20, 209],...</td>\n",
              "      <td>[[chat, conversation], [ai, chat], [character,...</td>\n",
              "      <td>4</td>\n",
              "    </tr>\n",
              "  </tbody>\n",
              "</table>\n",
              "</div>\n",
              "    <div class=\"colab-df-buttons\">\n",
              "\n",
              "  <div class=\"colab-df-container\">\n",
              "    <button class=\"colab-df-convert\" onclick=\"convertToInteractive('df-d58ad656-d108-4389-b402-064a424b2cfc')\"\n",
              "            title=\"Convert this dataframe to an interactive table.\"\n",
              "            style=\"display:none;\">\n",
              "\n",
              "  <svg xmlns=\"http://www.w3.org/2000/svg\" height=\"24px\" viewBox=\"0 -960 960 960\">\n",
              "    <path d=\"M120-120v-720h720v720H120Zm60-500h600v-160H180v160Zm220 220h160v-160H400v160Zm0 220h160v-160H400v160ZM180-400h160v-160H180v160Zm440 0h160v-160H620v160ZM180-180h160v-160H180v160Zm440 0h160v-160H620v160Z\"/>\n",
              "  </svg>\n",
              "    </button>\n",
              "\n",
              "  <style>\n",
              "    .colab-df-container {\n",
              "      display:flex;\n",
              "      gap: 12px;\n",
              "    }\n",
              "\n",
              "    .colab-df-convert {\n",
              "      background-color: #E8F0FE;\n",
              "      border: none;\n",
              "      border-radius: 50%;\n",
              "      cursor: pointer;\n",
              "      display: none;\n",
              "      fill: #1967D2;\n",
              "      height: 32px;\n",
              "      padding: 0 0 0 0;\n",
              "      width: 32px;\n",
              "    }\n",
              "\n",
              "    .colab-df-convert:hover {\n",
              "      background-color: #E2EBFA;\n",
              "      box-shadow: 0px 1px 2px rgba(60, 64, 67, 0.3), 0px 1px 3px 1px rgba(60, 64, 67, 0.15);\n",
              "      fill: #174EA6;\n",
              "    }\n",
              "\n",
              "    .colab-df-buttons div {\n",
              "      margin-bottom: 4px;\n",
              "    }\n",
              "\n",
              "    [theme=dark] .colab-df-convert {\n",
              "      background-color: #3B4455;\n",
              "      fill: #D2E3FC;\n",
              "    }\n",
              "\n",
              "    [theme=dark] .colab-df-convert:hover {\n",
              "      background-color: #434B5C;\n",
              "      box-shadow: 0px 1px 3px 1px rgba(0, 0, 0, 0.15);\n",
              "      filter: drop-shadow(0px 1px 2px rgba(0, 0, 0, 0.3));\n",
              "      fill: #FFFFFF;\n",
              "    }\n",
              "  </style>\n",
              "\n",
              "    <script>\n",
              "      const buttonEl =\n",
              "        document.querySelector('#df-d58ad656-d108-4389-b402-064a424b2cfc button.colab-df-convert');\n",
              "      buttonEl.style.display =\n",
              "        google.colab.kernel.accessAllowed ? 'block' : 'none';\n",
              "\n",
              "      async function convertToInteractive(key) {\n",
              "        const element = document.querySelector('#df-d58ad656-d108-4389-b402-064a424b2cfc');\n",
              "        const dataTable =\n",
              "          await google.colab.kernel.invokeFunction('convertToInteractive',\n",
              "                                                    [key], {});\n",
              "        if (!dataTable) return;\n",
              "\n",
              "        const docLinkHtml = 'Like what you see? Visit the ' +\n",
              "          '<a target=\"_blank\" href=https://colab.research.google.com/notebooks/data_table.ipynb>data table notebook</a>'\n",
              "          + ' to learn more about interactive tables.';\n",
              "        element.innerHTML = '';\n",
              "        dataTable['output_type'] = 'display_data';\n",
              "        await google.colab.output.renderOutput(dataTable, element);\n",
              "        const docLink = document.createElement('div');\n",
              "        docLink.innerHTML = docLinkHtml;\n",
              "        element.appendChild(docLink);\n",
              "      }\n",
              "    </script>\n",
              "  </div>\n",
              "\n",
              "\n",
              "<div id=\"df-3c4ab0f8-28ac-4b9a-9c91-0816ab43a28c\">\n",
              "  <button class=\"colab-df-quickchart\" onclick=\"quickchart('df-3c4ab0f8-28ac-4b9a-9c91-0816ab43a28c')\"\n",
              "            title=\"Suggest charts\"\n",
              "            style=\"display:none;\">\n",
              "\n",
              "<svg xmlns=\"http://www.w3.org/2000/svg\" height=\"24px\"viewBox=\"0 0 24 24\"\n",
              "     width=\"24px\">\n",
              "    <g>\n",
              "        <path d=\"M19 3H5c-1.1 0-2 .9-2 2v14c0 1.1.9 2 2 2h14c1.1 0 2-.9 2-2V5c0-1.1-.9-2-2-2zM9 17H7v-7h2v7zm4 0h-2V7h2v10zm4 0h-2v-4h2v4z\"/>\n",
              "    </g>\n",
              "</svg>\n",
              "  </button>\n",
              "\n",
              "<style>\n",
              "  .colab-df-quickchart {\n",
              "      --bg-color: #E8F0FE;\n",
              "      --fill-color: #1967D2;\n",
              "      --hover-bg-color: #E2EBFA;\n",
              "      --hover-fill-color: #174EA6;\n",
              "      --disabled-fill-color: #AAA;\n",
              "      --disabled-bg-color: #DDD;\n",
              "  }\n",
              "\n",
              "  [theme=dark] .colab-df-quickchart {\n",
              "      --bg-color: #3B4455;\n",
              "      --fill-color: #D2E3FC;\n",
              "      --hover-bg-color: #434B5C;\n",
              "      --hover-fill-color: #FFFFFF;\n",
              "      --disabled-bg-color: #3B4455;\n",
              "      --disabled-fill-color: #666;\n",
              "  }\n",
              "\n",
              "  .colab-df-quickchart {\n",
              "    background-color: var(--bg-color);\n",
              "    border: none;\n",
              "    border-radius: 50%;\n",
              "    cursor: pointer;\n",
              "    display: none;\n",
              "    fill: var(--fill-color);\n",
              "    height: 32px;\n",
              "    padding: 0;\n",
              "    width: 32px;\n",
              "  }\n",
              "\n",
              "  .colab-df-quickchart:hover {\n",
              "    background-color: var(--hover-bg-color);\n",
              "    box-shadow: 0 1px 2px rgba(60, 64, 67, 0.3), 0 1px 3px 1px rgba(60, 64, 67, 0.15);\n",
              "    fill: var(--button-hover-fill-color);\n",
              "  }\n",
              "\n",
              "  .colab-df-quickchart-complete:disabled,\n",
              "  .colab-df-quickchart-complete:disabled:hover {\n",
              "    background-color: var(--disabled-bg-color);\n",
              "    fill: var(--disabled-fill-color);\n",
              "    box-shadow: none;\n",
              "  }\n",
              "\n",
              "  .colab-df-spinner {\n",
              "    border: 2px solid var(--fill-color);\n",
              "    border-color: transparent;\n",
              "    border-bottom-color: var(--fill-color);\n",
              "    animation:\n",
              "      spin 1s steps(1) infinite;\n",
              "  }\n",
              "\n",
              "  @keyframes spin {\n",
              "    0% {\n",
              "      border-color: transparent;\n",
              "      border-bottom-color: var(--fill-color);\n",
              "      border-left-color: var(--fill-color);\n",
              "    }\n",
              "    20% {\n",
              "      border-color: transparent;\n",
              "      border-left-color: var(--fill-color);\n",
              "      border-top-color: var(--fill-color);\n",
              "    }\n",
              "    30% {\n",
              "      border-color: transparent;\n",
              "      border-left-color: var(--fill-color);\n",
              "      border-top-color: var(--fill-color);\n",
              "      border-right-color: var(--fill-color);\n",
              "    }\n",
              "    40% {\n",
              "      border-color: transparent;\n",
              "      border-right-color: var(--fill-color);\n",
              "      border-top-color: var(--fill-color);\n",
              "    }\n",
              "    60% {\n",
              "      border-color: transparent;\n",
              "      border-right-color: var(--fill-color);\n",
              "    }\n",
              "    80% {\n",
              "      border-color: transparent;\n",
              "      border-right-color: var(--fill-color);\n",
              "      border-bottom-color: var(--fill-color);\n",
              "    }\n",
              "    90% {\n",
              "      border-color: transparent;\n",
              "      border-bottom-color: var(--fill-color);\n",
              "    }\n",
              "  }\n",
              "</style>\n",
              "\n",
              "  <script>\n",
              "    async function quickchart(key) {\n",
              "      const quickchartButtonEl =\n",
              "        document.querySelector('#' + key + ' button');\n",
              "      quickchartButtonEl.disabled = true;  // To prevent multiple clicks.\n",
              "      quickchartButtonEl.classList.add('colab-df-spinner');\n",
              "      try {\n",
              "        const charts = await google.colab.kernel.invokeFunction(\n",
              "            'suggestCharts', [key], {});\n",
              "      } catch (error) {\n",
              "        console.error('Error during call to suggestCharts:', error);\n",
              "      }\n",
              "      quickchartButtonEl.classList.remove('colab-df-spinner');\n",
              "      quickchartButtonEl.classList.add('colab-df-quickchart-complete');\n",
              "    }\n",
              "    (() => {\n",
              "      let quickchartButtonEl =\n",
              "        document.querySelector('#df-3c4ab0f8-28ac-4b9a-9c91-0816ab43a28c button');\n",
              "      quickchartButtonEl.style.display =\n",
              "        google.colab.kernel.accessAllowed ? 'block' : 'none';\n",
              "    })();\n",
              "  </script>\n",
              "</div>\n",
              "    </div>\n",
              "  </div>\n"
            ]
          },
          "metadata": {},
          "execution_count": 17
        }
      ]
    },
    {
      "cell_type": "code",
      "source": [
        "model = btm.BTM(\n",
        "    X, vocabulary, seed=12321, T=20, M=100, alpha=0.01, beta=0.01)\n",
        "model.fit(biterms)"
      ],
      "metadata": {
        "colab": {
          "base_uri": "https://localhost:8080/"
        },
        "id": "WLbfDwsCJifI",
        "outputId": "cfe2f746-08b0-4487-9d29-c76642c70ea6"
      },
      "execution_count": null,
      "outputs": [
        {
          "output_type": "stream",
          "name": "stderr",
          "text": [
            "100%|██████████| 600/600 [00:02<00:00, 295.15it/s]\n"
          ]
        }
      ]
    },
    {
      "cell_type": "code",
      "source": [
        "p_zd = model.transform(docs_vec)"
      ],
      "metadata": {
        "colab": {
          "base_uri": "https://localhost:8080/"
        },
        "id": "uofzykX8hOyd",
        "outputId": "99fe26fc-e1ed-4bfa-e29f-fdf77f9665e5"
      },
      "execution_count": null,
      "outputs": [
        {
          "output_type": "stream",
          "name": "stderr",
          "text": [
            "100%|██████████| 1011/1011 [00:00<00:00, 34696.29it/s]\n"
          ]
        }
      ]
    },
    {
      "cell_type": "code",
      "source": [
        "biterms_list_column = df['biterm_indexes']\n",
        "\n",
        "p_wz = model.matrix_topics_words_\n",
        "\n",
        "def calculate_global_weights(biterms_list):\n",
        "    biterm_probs = []\n",
        "    for biterm in biterms_list:\n",
        "        biterm_prob = 0.0\n",
        "        for topic_probs in p_wz:\n",
        "            biterm_prob += topic_probs[biterm[0]] * topic_probs[biterm[1]]\n",
        "        biterm_probs.append(biterm_prob)\n",
        "    return biterm_probs\n",
        "\n",
        "df['global_biterm_probs'] = biterms_list_column.apply(calculate_global_weights)\n"
      ],
      "metadata": {
        "id": "-2iZsPrwdpDh"
      },
      "execution_count": null,
      "outputs": []
    },
    {
      "cell_type": "code",
      "source": [
        "def calculate_context_aware_weights(row):\n",
        "    biterms = row['biterm_indexes']\n",
        "    global_biterm_probs = row['global_biterm_probs']\n",
        "\n",
        "    if len(biterms) == 0:\n",
        "        return []\n",
        "\n",
        "    context_aware_weights = []\n",
        "\n",
        "    for i, biterm in enumerate(biterms):\n",
        "        global_weight = global_biterm_probs[i]\n",
        "\n",
        "        sum_global_weights = sum(global_biterm_probs)\n",
        "\n",
        "        context_aware_weight = global_weight / sum_global_weights\n",
        "\n",
        "        context_aware_weights.append(context_aware_weight)\n",
        "\n",
        "    return context_aware_weights\n",
        "\n",
        "df['context_aware_weights'] = df.apply(calculate_context_aware_weights, axis=1)"
      ],
      "metadata": {
        "id": "dwMEYtPVIJeK"
      },
      "execution_count": null,
      "outputs": []
    },
    {
      "cell_type": "code",
      "source": [
        "\n",
        "\n",
        "def calculate_biterm_distance(biterm1, biterm2):\n",
        "    set1 = set(biterm1)\n",
        "    set2 = set(biterm2)\n",
        "    intersection = len(set1.intersection(set2))\n",
        "    union = len(set1.union(set2))\n",
        "    jaccard_distance = 1.0 - (intersection / union)\n",
        "    return jaccard_distance\n",
        "\n",
        "def calculate_short_text_distance(weights1, weights2, biterms1, biterms2):\n",
        "\n",
        "    weights1 = np.array(weights1)\n",
        "    weights2 = np.array(weights2)\n",
        "\n",
        "    distances = np.array([[calculate_biterm_distance(b1, b2) for b2 in biterms2] for b1 in biterms1])\n",
        "\n",
        "    short_text_distance = np.sum(weights1[:, np.newaxis] * weights2 * distances) / np.sum(weights1)\n",
        "    return short_text_distance\n",
        "\n",
        "\n",
        "descriptions = df.description.to_list()\n",
        "biterms = df.biterms.to_list()\n",
        "context_aware_weights = df.context_aware_weights.to_list()\n",
        "\n",
        "num_texts = len(descriptions)\n",
        "\n",
        "distance_matrix = np.zeros((num_texts, num_texts))\n",
        "\n",
        "for i in range(num_texts):\n",
        "    for j in range(i + 1, num_texts):\n",
        "        distance_matrix[i, j] = calculate_short_text_distance(\n",
        "            context_aware_weights[i], context_aware_weights[j],\n",
        "            biterms[i], biterms[j]\n",
        "        )\n",
        "\n",
        "        distance_matrix[j, i] = distance_matrix[i, j]\n",
        "\n",
        "print(distance_matrix)\n"
      ],
      "metadata": {
        "colab": {
          "base_uri": "https://localhost:8080/"
        },
        "id": "812-icRHPp-W",
        "outputId": "0252f89e-84fd-41e2-eb6c-484630af27da"
      },
      "execution_count": null,
      "outputs": [
        {
          "output_type": "stream",
          "name": "stdout",
          "text": [
            "[[0.         1.         1.         ... 0.8864119  1.         1.        ]\n",
            " [1.         0.         1.         ... 1.         1.         1.        ]\n",
            " [1.         1.         0.         ... 1.         1.         0.71820893]\n",
            " ...\n",
            " [0.8864119  1.         1.         ... 0.         1.         1.        ]\n",
            " [1.         1.         1.         ... 1.         0.         0.80567114]\n",
            " [1.         1.         0.71820893 ... 1.         0.80567114 0.        ]]\n"
          ]
        }
      ]
    },
    {
      "cell_type": "code",
      "source": [
        "from sklearn.metrics import silhouette_score\n",
        "from sklearn.model_selection import ParameterGrid\n",
        "\n",
        "# Assuming your distance matrix is stored in the variable 'distance_matrix'\n",
        "# You've defined a range of k values to search through, e.g., k_values = [2, 3, 4, 5]\n",
        "k_values = [3]\n",
        "\n",
        "# Define other parameters for KMedoids if needed\n",
        "# medoid_method, random_state, etc.\n",
        "\n",
        "# Create a parameter grid\n",
        "param_grid = {\n",
        "    'n_clusters': k_values,\n",
        "    # Add other parameters here\n",
        "}\n",
        "\n",
        "# Generate all possible combinations of parameters\n",
        "grid = ParameterGrid(param_grid)\n",
        "\n",
        "best_silhouette_score = -1\n",
        "best_k = None\n",
        "\n",
        "# Iterate over each parameter combination\n",
        "for params in grid:\n",
        "    n_clusters = params['n_clusters']\n",
        "\n",
        "    # Initialize KMedoids with the current parameter combination\n",
        "    kmedoids = KMedoids(n_clusters=n_clusters, random_state=42)  # Add other parameters here\n",
        "\n",
        "    # Fit KMedoids to your distance matrix\n",
        "    labels = kmedoids.fit_predict(distance_matrix)\n",
        "\n",
        "    # Calculate silhouette score\n",
        "    silhouette_avg = silhouette_score(distance_matrix, labels)\n",
        "\n",
        "    # Update the best parameters if the silhouette score is higher\n",
        "    if silhouette_avg > best_silhouette_score:\n",
        "        best_silhouette_score = silhouette_avg\n",
        "        best_k = n_clusters\n",
        "\n",
        "print(f\"Best Silhouette Score: {best_silhouette_score} for k={best_k}\")\n"
      ],
      "metadata": {
        "colab": {
          "base_uri": "https://localhost:8080/"
        },
        "id": "ZSnVhfOPfhOO",
        "outputId": "06838c7f-b779-4ba9-eccf-f4a2230c945d"
      },
      "execution_count": null,
      "outputs": [
        {
          "output_type": "stream",
          "name": "stdout",
          "text": [
            "Best Silhouette Score: 0.45259698200455695 for k=3\n"
          ]
        }
      ]
    },
    {
      "cell_type": "code",
      "source": [
        "import numpy as np\n",
        "import pandas as pd\n",
        "from sklearn.cluster import AgglomerativeClustering\n",
        "from sklearn.metrics import silhouette_score\n",
        "import matplotlib.pyplot as plt\n",
        "import seaborn as sns\n",
        "\n",
        "\n",
        "best_silhouette_score = -1\n",
        "best_n_clusters = 2\n",
        "\n",
        "for n_clusters in range(2, 10):\n",
        "    clustering = AgglomerativeClustering(n_clusters=n_clusters, affinity='precomputed', linkage='average')\n",
        "    labels = clustering.fit_predict(distance_matrix)\n",
        "    silhouette_avg = silhouette_score(distance_matrix, labels, metric='precomputed')\n",
        "\n",
        "    print(f\"Silhouette Score for {n_clusters} clusters: {silhouette_avg}\")\n",
        "\n",
        "    if silhouette_avg > best_silhouette_score:\n",
        "        best_silhouette_score = silhouette_avg\n",
        "        best_n_clusters = n_clusters\n",
        "\n",
        "# Use the best number of clusters to perform clustering\n",
        "best_clustering = AgglomerativeClustering(n_clusters=best_n_clusters, affinity='precomputed', linkage='average')\n",
        "best_labels = best_clustering.fit_predict(distance_matrix)\n",
        "best_silhouette_score\n"
      ],
      "metadata": {
        "colab": {
          "base_uri": "https://localhost:8080/"
        },
        "id": "B1muCMRLfq6M",
        "outputId": "41e61378-7fd3-461e-a9f2-904620f32295"
      },
      "execution_count": null,
      "outputs": [
        {
          "output_type": "stream",
          "name": "stderr",
          "text": [
            "/usr/local/lib/python3.10/dist-packages/sklearn/cluster/_agglomerative.py:983: FutureWarning: Attribute `affinity` was deprecated in version 1.2 and will be removed in 1.4. Use `metric` instead\n",
            "  warnings.warn(\n",
            "/usr/local/lib/python3.10/dist-packages/sklearn/cluster/_agglomerative.py:983: FutureWarning: Attribute `affinity` was deprecated in version 1.2 and will be removed in 1.4. Use `metric` instead\n",
            "  warnings.warn(\n",
            "/usr/local/lib/python3.10/dist-packages/sklearn/cluster/_agglomerative.py:983: FutureWarning: Attribute `affinity` was deprecated in version 1.2 and will be removed in 1.4. Use `metric` instead\n",
            "  warnings.warn(\n"
          ]
        },
        {
          "output_type": "stream",
          "name": "stdout",
          "text": [
            "Silhouette Score for 2 clusters: 0.06445156716652718\n",
            "Silhouette Score for 3 clusters: 0.06441731172761207\n",
            "Silhouette Score for 4 clusters: 0.06458248556529689\n"
          ]
        },
        {
          "output_type": "stream",
          "name": "stderr",
          "text": [
            "/usr/local/lib/python3.10/dist-packages/sklearn/cluster/_agglomerative.py:983: FutureWarning: Attribute `affinity` was deprecated in version 1.2 and will be removed in 1.4. Use `metric` instead\n",
            "  warnings.warn(\n",
            "/usr/local/lib/python3.10/dist-packages/sklearn/cluster/_agglomerative.py:983: FutureWarning: Attribute `affinity` was deprecated in version 1.2 and will be removed in 1.4. Use `metric` instead\n",
            "  warnings.warn(\n",
            "/usr/local/lib/python3.10/dist-packages/sklearn/cluster/_agglomerative.py:983: FutureWarning: Attribute `affinity` was deprecated in version 1.2 and will be removed in 1.4. Use `metric` instead\n",
            "  warnings.warn(\n"
          ]
        },
        {
          "output_type": "stream",
          "name": "stdout",
          "text": [
            "Silhouette Score for 5 clusters: 0.0650054955352821\n",
            "Silhouette Score for 6 clusters: 0.06475360134619128\n",
            "Silhouette Score for 7 clusters: 0.06443429224750244\n"
          ]
        },
        {
          "output_type": "stream",
          "name": "stderr",
          "text": [
            "/usr/local/lib/python3.10/dist-packages/sklearn/cluster/_agglomerative.py:983: FutureWarning: Attribute `affinity` was deprecated in version 1.2 and will be removed in 1.4. Use `metric` instead\n",
            "  warnings.warn(\n",
            "/usr/local/lib/python3.10/dist-packages/sklearn/cluster/_agglomerative.py:983: FutureWarning: Attribute `affinity` was deprecated in version 1.2 and will be removed in 1.4. Use `metric` instead\n",
            "  warnings.warn(\n",
            "/usr/local/lib/python3.10/dist-packages/sklearn/cluster/_agglomerative.py:983: FutureWarning: Attribute `affinity` was deprecated in version 1.2 and will be removed in 1.4. Use `metric` instead\n",
            "  warnings.warn(\n"
          ]
        },
        {
          "output_type": "stream",
          "name": "stdout",
          "text": [
            "Silhouette Score for 8 clusters: 0.06411768291809743\n",
            "Silhouette Score for 9 clusters: 0.06391069103882979\n"
          ]
        },
        {
          "output_type": "execute_result",
          "data": {
            "text/plain": [
              "0.0650054955352821"
            ]
          },
          "metadata": {},
          "execution_count": 77
        }
      ]
    },
    {
      "cell_type": "code",
      "source": [],
      "metadata": {
        "id": "NWk98bzgg1IP"
      },
      "execution_count": null,
      "outputs": []
    }
  ]
}